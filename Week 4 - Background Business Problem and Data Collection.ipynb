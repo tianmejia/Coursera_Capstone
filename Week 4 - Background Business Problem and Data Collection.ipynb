{
 "cells": [
  {
   "cell_type": "markdown",
   "metadata": {},
   "source": [
    "## The Battle of Neighbourhoods (Bogotá Edition!)"
   ]
  },
  {
   "cell_type": "markdown",
   "metadata": {},
   "source": [
    "### 1. Introduction"
   ]
  },
  {
   "cell_type": "markdown",
   "metadata": {},
   "source": [
    "#### 1.1 Background"
   ]
  },
  {
   "cell_type": "markdown",
   "metadata": {},
   "source": [
    "\n",
    "Bogotá, is the capital district and largest city of Colombia, and so, it is the political, economic, administrative and industrial center of the country. Therefore, it accounts for the highest population (around 7.5 million) and the highest nominal GDP in the country (almost a quarter of the nation's total). \n",
    "\n",
    "It accounts for the most business activity, hosts the main financial market, and is the leading destination on education, gastronomy, cultural activity and entertainment, because of its great cultural diversity coming from different regions of the country, and so, its also responsible for 56% of the tourism that arrives to Colombia.\n",
    "\n",
    "All of this to reflect the fact that the higher population, the higher income, the higher number of universities and nightlife zones, make Bogota the ideal city for making real my business plan.\n",
    "\n",
    "Although this project is room for a personal business idea, it may be helpful for people who want to open any kind of departing business, since is a primary scope of the different potential locations, gives a clearer idea of some of its selected neighbourhoods and contributes to find the top popular venues around them.\n"
   ]
  },
  {
   "cell_type": "markdown",
   "metadata": {},
   "source": [
    "#### 1.2 Business Problem"
   ]
  },
  {
   "cell_type": "markdown",
   "metadata": {},
   "source": [
    "\n",
    "I have the intend to open a \"Home Brewed\" Beer Pub in Bogota, but haven't decided the location yet. \n",
    "Although I feel familiar with the city since I've lived here all my life and know must of its nightlife zones, aside from asking friends for recommendations on the neighbourhoods or locations where I should open my business, this Capstone Project gave me the tools to explore, segment and cluster neighbourhoods in order to know more about its venues or types of running businesses to complement this hard task.\n",
    "\n",
    "I have considered that an ideal location should be nearby nightlife zones, since party environments favor beer consumption, next to other beer pubs, since competition favors the attention and asures traffic of focused or niche groups (home brewed beer consumers) or near universities, since culturaly younger adults use to spend their leisure time drinking beer while waiting for classtime or after finishing the study journey (although budget can be a constraint in that niche).  \n"
   ]
  },
  {
   "cell_type": "markdown",
   "metadata": {},
   "source": [
    "\n",
    "### 2. Data Collection\n",
    "\n"
   ]
  },
  {
   "cell_type": "markdown",
   "metadata": {},
   "source": [
    "Bogota is divided into 20 major boroughs, each containing a certain number of planning zones (UPZ) and are composed by dozens of neighbourhoods. \n",
    "\n",
    "As previous market research reveals that home brewed beer is not consumed by low-income areas, then not all major boroughs are considered of interest for running the business. Therefore, in this project I will explore some previously selected neighbourhoods in the level of major borough, get the venue data around each and select 2 as the 'potential' locations to open the Beer Pub."
   ]
  },
  {
   "cell_type": "markdown",
   "metadata": {},
   "source": [
    "#### 2.1 Latitudes and  longitudes\n",
    "\n"
   ]
  },
  {
   "cell_type": "markdown",
   "metadata": {},
   "source": [
    "The selected Major Boroughs and Neighbourhoods are: \n",
    "CHAPINERO (ROSALES, CHICO, CHAPINERO ALTO, ZONA ROSA), \n",
    "CIUDAD BOLIVAR (MOCHUELO),\n",
    "ENGATIVA (MINUTO DE DIOS), \n",
    "FONTIBON (FONTIBON), \n",
    "KENNEDY (KENNEDY CENTRAL), \n",
    "SANTA FE (SAN DIEGO), \n",
    "SUBA (COLINA CAMPESTRE), \n",
    "TEUSAQUILLO (TEUSAQUILLO) and \n",
    "USAQUEN (USAQUEN)\n",
    "\n",
    "The latitudes and longitudes of the neighbourhoods are required to plot the map and get the venue data.\n",
    "At this point is worthy to mention that doing my research I found that Bogota doesn't have a source of latitudes and longitudes for each of its neighbourhoods neither on wikipedia or anywhere else, therefore, in order to get them I had to search for the coordinates myself, each selected neighbourhood at a time, construct my own data base (I chose to use .csv format), upload it as a cloud storage object on the IBM Cloud Platform and import it as a data asset to my notebook. The majority of the coordinates where found individually on wikipedia.\n",
    "\n"
   ]
  },
  {
   "cell_type": "markdown",
   "metadata": {},
   "source": [
    "#### 2.2 Venue data around each Neighbourhood"
   ]
  },
  {
   "cell_type": "markdown",
   "metadata": {},
   "source": [
    "\n",
    "Venue data is used to perform clustering on the neighbourhoods. In that purpose I will use a Foursquare's API call to get the information of venues within the areas of interest, as it contains a database of millions of places and provides the ability to perform location search and get information about businesses. \n",
    "\n",
    "In each neighbourhood, I chose the radius to be 500 meters and a reasonably number of 30 places per neighborhood."
   ]
  },
  {
   "cell_type": "code",
   "execution_count": null,
   "metadata": {},
   "outputs": [],
   "source": []
  }
 ],
 "metadata": {
  "kernelspec": {
   "display_name": "Python 3",
   "language": "python",
   "name": "python3"
  },
  "language_info": {
   "codemirror_mode": {
    "name": "ipython",
    "version": 3
   },
   "file_extension": ".py",
   "mimetype": "text/x-python",
   "name": "python",
   "nbconvert_exporter": "python",
   "pygments_lexer": "ipython3",
   "version": "3.8.3"
  }
 },
 "nbformat": 4,
 "nbformat_minor": 4
}
